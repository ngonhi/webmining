{
 "cells": [
  {
   "cell_type": "code",
   "execution_count": 56,
   "metadata": {},
   "outputs": [],
   "source": [
    "import pandas as pd\n",
    "import gzip\n",
    "import json\n",
    "import numpy as np\n",
    "import matplotlib.pyplot as plt\n",
    "from apyori import apriori"
   ]
  },
  {
   "cell_type": "code",
   "execution_count": 5,
   "metadata": {},
   "outputs": [],
   "source": [
    "def parse(path):\n",
    "  g = gzip.open(path, 'rb')\n",
    "  for l in g:\n",
    "    yield json.loads(l)"
   ]
  },
  {
   "cell_type": "code",
   "execution_count": 6,
   "metadata": {},
   "outputs": [],
   "source": [
    "def getDF(path):\n",
    "  i = 0\n",
    "  df = {}\n",
    "  for d in parse(path):\n",
    "    df[i] = d\n",
    "    i += 1\n",
    "  return pd.DataFrame.from_dict(df, orient='index')\n",
    "\n",
    "df = getDF('Office_Products_5.json.gz')"
   ]
  },
  {
   "cell_type": "code",
   "execution_count": 7,
   "metadata": {},
   "outputs": [
    {
     "data": {
      "text/html": [
       "<div>\n",
       "<style scoped>\n",
       "    .dataframe tbody tr th:only-of-type {\n",
       "        vertical-align: middle;\n",
       "    }\n",
       "\n",
       "    .dataframe tbody tr th {\n",
       "        vertical-align: top;\n",
       "    }\n",
       "\n",
       "    .dataframe thead th {\n",
       "        text-align: right;\n",
       "    }\n",
       "</style>\n",
       "<table border=\"1\" class=\"dataframe\">\n",
       "  <thead>\n",
       "    <tr style=\"text-align: right;\">\n",
       "      <th></th>\n",
       "      <th>reviewerID</th>\n",
       "      <th>asin</th>\n",
       "      <th>style</th>\n",
       "      <th>verified</th>\n",
       "      <th>reviewText</th>\n",
       "      <th>overall</th>\n",
       "      <th>summary</th>\n",
       "      <th>unixReviewTime</th>\n",
       "      <th>reviewerName</th>\n",
       "      <th>reviewTime</th>\n",
       "      <th>vote</th>\n",
       "      <th>image</th>\n",
       "    </tr>\n",
       "  </thead>\n",
       "  <tbody>\n",
       "    <tr>\n",
       "      <th>0</th>\n",
       "      <td>A2NIJTYWADLK57</td>\n",
       "      <td>0140503528</td>\n",
       "      <td>{u'Format:': u' Board book'}</td>\n",
       "      <td>True</td>\n",
       "      <td>kids like story BUT while i really wanted a bo...</td>\n",
       "      <td>4.0</td>\n",
       "      <td>good story, small size book though</td>\n",
       "      <td>1510012800</td>\n",
       "      <td>cotton clay</td>\n",
       "      <td>11 7, 2017</td>\n",
       "      <td>NaN</td>\n",
       "      <td>NaN</td>\n",
       "    </tr>\n",
       "    <tr>\n",
       "      <th>1</th>\n",
       "      <td>A2827D8EEURMP4</td>\n",
       "      <td>0140503528</td>\n",
       "      <td>{u'Format:': u' Hardcover'}</td>\n",
       "      <td>True</td>\n",
       "      <td>Bought this used and it came in great conditio...</td>\n",
       "      <td>4.0</td>\n",
       "      <td>Good</td>\n",
       "      <td>1488844800</td>\n",
       "      <td>emankcin</td>\n",
       "      <td>03 7, 2017</td>\n",
       "      <td>NaN</td>\n",
       "      <td>NaN</td>\n",
       "    </tr>\n",
       "    <tr>\n",
       "      <th>2</th>\n",
       "      <td>APB6087F4J09J</td>\n",
       "      <td>0140503528</td>\n",
       "      <td>{u'Format:': u' Board book'}</td>\n",
       "      <td>True</td>\n",
       "      <td>Every story and book about Corduroy is Fantast...</td>\n",
       "      <td>5.0</td>\n",
       "      <td>Best Books for All Children</td>\n",
       "      <td>1466812800</td>\n",
       "      <td>Starbucks Fan</td>\n",
       "      <td>06 25, 2016</td>\n",
       "      <td>NaN</td>\n",
       "      <td>NaN</td>\n",
       "    </tr>\n",
       "    <tr>\n",
       "      <th>3</th>\n",
       "      <td>A2DHERRZIPFU7X</td>\n",
       "      <td>0140503528</td>\n",
       "      <td>{u'Format:': u' Paperback'}</td>\n",
       "      <td>True</td>\n",
       "      <td>I purchased this book for my first grade class...</td>\n",
       "      <td>5.0</td>\n",
       "      <td>Great for Math!</td>\n",
       "      <td>1456012800</td>\n",
       "      <td>Caitlyn Jacobson</td>\n",
       "      <td>02 21, 2016</td>\n",
       "      <td>NaN</td>\n",
       "      <td>NaN</td>\n",
       "    </tr>\n",
       "    <tr>\n",
       "      <th>4</th>\n",
       "      <td>A2XCLJRGFANRC</td>\n",
       "      <td>0140503528</td>\n",
       "      <td>{u'Format:': u' Hardcover'}</td>\n",
       "      <td>False</td>\n",
       "      <td>Having spent numerous years in an elementary s...</td>\n",
       "      <td>5.0</td>\n",
       "      <td>Love Corduroy</td>\n",
       "      <td>1438473600</td>\n",
       "      <td>E. Ervin</td>\n",
       "      <td>08 2, 2015</td>\n",
       "      <td>NaN</td>\n",
       "      <td>NaN</td>\n",
       "    </tr>\n",
       "  </tbody>\n",
       "</table>\n",
       "</div>"
      ],
      "text/plain": [
       "       reviewerID        asin                         style  verified  \\\n",
       "0  A2NIJTYWADLK57  0140503528  {u'Format:': u' Board book'}      True   \n",
       "1  A2827D8EEURMP4  0140503528   {u'Format:': u' Hardcover'}      True   \n",
       "2   APB6087F4J09J  0140503528  {u'Format:': u' Board book'}      True   \n",
       "3  A2DHERRZIPFU7X  0140503528   {u'Format:': u' Paperback'}      True   \n",
       "4   A2XCLJRGFANRC  0140503528   {u'Format:': u' Hardcover'}     False   \n",
       "\n",
       "                                          reviewText  overall  \\\n",
       "0  kids like story BUT while i really wanted a bo...      4.0   \n",
       "1  Bought this used and it came in great conditio...      4.0   \n",
       "2  Every story and book about Corduroy is Fantast...      5.0   \n",
       "3  I purchased this book for my first grade class...      5.0   \n",
       "4  Having spent numerous years in an elementary s...      5.0   \n",
       "\n",
       "                              summary  unixReviewTime      reviewerName  \\\n",
       "0  good story, small size book though      1510012800       cotton clay   \n",
       "1                                Good      1488844800          emankcin   \n",
       "2         Best Books for All Children      1466812800     Starbucks Fan   \n",
       "3                     Great for Math!      1456012800  Caitlyn Jacobson   \n",
       "4                       Love Corduroy      1438473600          E. Ervin   \n",
       "\n",
       "    reviewTime vote image  \n",
       "0   11 7, 2017  NaN   NaN  \n",
       "1   03 7, 2017  NaN   NaN  \n",
       "2  06 25, 2016  NaN   NaN  \n",
       "3  02 21, 2016  NaN   NaN  \n",
       "4   08 2, 2015  NaN   NaN  "
      ]
     },
     "execution_count": 7,
     "metadata": {},
     "output_type": "execute_result"
    }
   ],
   "source": [
    "df.head()"
   ]
  },
  {
   "cell_type": "code",
   "execution_count": 9,
   "metadata": {},
   "outputs": [
    {
     "name": "stdout",
     "output_type": "stream",
     "text": [
      "('Number of rows: ', 800357)\n",
      "('Number of columns: ', 12)\n"
     ]
    }
   ],
   "source": [
    "rows,columns=df.shape\n",
    "print('Number of rows: ',rows)\n",
    "print('Number of columns: ',columns)"
   ]
  },
  {
   "cell_type": "code",
   "execution_count": 12,
   "metadata": {},
   "outputs": [
    {
     "data": {
      "text/html": [
       "<div>\n",
       "<style scoped>\n",
       "    .dataframe tbody tr th:only-of-type {\n",
       "        vertical-align: middle;\n",
       "    }\n",
       "\n",
       "    .dataframe tbody tr th {\n",
       "        vertical-align: top;\n",
       "    }\n",
       "\n",
       "    .dataframe thead th {\n",
       "        text-align: right;\n",
       "    }\n",
       "</style>\n",
       "<table border=\"1\" class=\"dataframe\">\n",
       "  <thead>\n",
       "    <tr style=\"text-align: right;\">\n",
       "      <th></th>\n",
       "      <th>reviewerID</th>\n",
       "      <th>asin</th>\n",
       "      <th>overall</th>\n",
       "      <th>reviewerName</th>\n",
       "    </tr>\n",
       "  </thead>\n",
       "  <tbody>\n",
       "    <tr>\n",
       "      <th>0</th>\n",
       "      <td>A2NIJTYWADLK57</td>\n",
       "      <td>0140503528</td>\n",
       "      <td>4.0</td>\n",
       "      <td>cotton clay</td>\n",
       "    </tr>\n",
       "    <tr>\n",
       "      <th>1</th>\n",
       "      <td>A2827D8EEURMP4</td>\n",
       "      <td>0140503528</td>\n",
       "      <td>4.0</td>\n",
       "      <td>emankcin</td>\n",
       "    </tr>\n",
       "    <tr>\n",
       "      <th>2</th>\n",
       "      <td>APB6087F4J09J</td>\n",
       "      <td>0140503528</td>\n",
       "      <td>5.0</td>\n",
       "      <td>Starbucks Fan</td>\n",
       "    </tr>\n",
       "    <tr>\n",
       "      <th>3</th>\n",
       "      <td>A2DHERRZIPFU7X</td>\n",
       "      <td>0140503528</td>\n",
       "      <td>5.0</td>\n",
       "      <td>Caitlyn Jacobson</td>\n",
       "    </tr>\n",
       "    <tr>\n",
       "      <th>4</th>\n",
       "      <td>A2XCLJRGFANRC</td>\n",
       "      <td>0140503528</td>\n",
       "      <td>5.0</td>\n",
       "      <td>E. Ervin</td>\n",
       "    </tr>\n",
       "  </tbody>\n",
       "</table>\n",
       "</div>"
      ],
      "text/plain": [
       "       reviewerID        asin  overall      reviewerName\n",
       "0  A2NIJTYWADLK57  0140503528      4.0       cotton clay\n",
       "1  A2827D8EEURMP4  0140503528      4.0          emankcin\n",
       "2   APB6087F4J09J  0140503528      5.0     Starbucks Fan\n",
       "3  A2DHERRZIPFU7X  0140503528      5.0  Caitlyn Jacobson\n",
       "4   A2XCLJRGFANRC  0140503528      5.0          E. Ervin"
      ]
     },
     "execution_count": 12,
     "metadata": {},
     "output_type": "execute_result"
    }
   ],
   "source": [
    "#Dropping unused variables\n",
    "df.drop(['style', 'verified', 'reviewText', 'summary', 'unixReviewTime', 'reviewTime', 'vote'\n",
    ", 'image'],axis=1,inplace=True)\n",
    "df.head()"
   ]
  },
  {
   "cell_type": "code",
   "execution_count": 14,
   "metadata": {},
   "outputs": [
    {
     "name": "stdout",
     "output_type": "stream",
     "text": [
      "('Number of unique product in Raw data = ', 27965)\n",
      "('Number of unique reviewer ID in Raw data = ', 101501)\n",
      "('Number of unique reviewer name in Raw data = ', 81540)\n"
     ]
    }
   ],
   "source": [
    "#Number of unique user id  in the data\n",
    "print('Number of unique product in Raw data = ', df['asin'].nunique())\n",
    "# Number of unique product id  in the data\n",
    "print('Number of unique reviewer ID in Raw data = ', df['reviewerID'].nunique())\n",
    "print('Number of unique reviewer name in Raw data = ', df['reviewerName'].nunique())"
   ]
  },
  {
   "cell_type": "code",
   "execution_count": null,
   "metadata": {},
   "outputs": [],
   "source": [
    "meta_df = getDF('meta_Office_Products.json.gz')\n",
    "rows,columns=meta_df.shape\n",
    "print('Number of rows: ',rows)\n",
    "print('Number of columns: ',columns)\n",
    "meta_df.head()\n"
   ]
  },
  {
   "cell_type": "code",
   "execution_count": null,
   "metadata": {},
   "outputs": [],
   "source": [
    "#Dropping unused variables\n",
    "meta_df.drop(['tech1', 'description', 'brand', 'rank', 'main_cat', 'similar_item'\n",
    ", 'date', 'feature', 'image', 'details', 'tech2', 'fit'],axis=1,inplace=True)"
   ]
  },
  {
   "cell_type": "code",
   "execution_count": null,
   "metadata": {},
   "outputs": [],
   "source": [
    "meta_df.head(10)"
   ]
  },
  {
   "cell_type": "code",
   "execution_count": null,
   "metadata": {},
   "outputs": [],
   "source": [
    "# Create also view table\n",
    "# type(asin) = unicode\n",
    "also_view = []\n",
    "for i in range(0, rows):\n",
    "    item = [meta_df.values[i, 1]]\n",
    "    av = meta_df.values[i,2]\n",
    "    if type(av) != float:\n",
    "        item += av\n",
    "    also_view.append(item)"
   ]
  },
  {
   "cell_type": "code",
   "execution_count": null,
   "metadata": {},
   "outputs": [],
   "source": [
    "# Create also buy table\n",
    "also_buy = []\n",
    "for i in range(0, rows):\n",
    "    item = [meta_df.values[i, 1]]\n",
    "    ab = meta_df.values[i, 4]\n",
    "    if type(ab) != float:\n",
    "        item += ab\n",
    "    also_buy.append(item)"
   ]
  },
  {
   "cell_type": "markdown",
   "metadata": {},
   "source": [
    "https://stackabuse.com/association-rule-mining-via-apriori-algorithm-in-python/"
   ]
  },
  {
   "cell_type": "code",
   "execution_count": null,
   "metadata": {},
   "outputs": [],
   "source": [
    "av_association_rules = apriori(also_view, min_support=0.0005, min_confidence=0.1, min_lift=1, min_length=2)\n",
    "av_association_results = list(av_association_rules)"
   ]
  },
  {
   "cell_type": "code",
   "execution_count": null,
   "metadata": {},
   "outputs": [],
   "source": [
    "ab_association_rules = apriori(also_buy, min_support=0.0005, min_confidence=0.1, min_lift=1, min_length=2)\n",
    "ab_association_results = list(ab_association_rules)"
   ]
  },
  {
   "cell_type": "code",
   "execution_count": null,
   "metadata": {},
   "outputs": [],
   "source": []
  },
  {
   "cell_type": "code",
   "execution_count": null,
   "metadata": {},
   "outputs": [],
   "source": []
  }
 ],
 "metadata": {
  "kernelspec": {
   "display_name": "Python 3",
   "language": "python",
   "name": "python3"
  },
  "language_info": {
   "codemirror_mode": {
    "name": "ipython",
    "version": 2
   },
   "file_extension": ".py",
   "mimetype": "text/x-python",
   "name": "python",
   "nbconvert_exporter": "python",
   "pygments_lexer": "ipython2",
   "version": "2.7.12"
  }
 },
 "nbformat": 4,
 "nbformat_minor": 2
}
